{
 "cells": [
  {
   "cell_type": "code",
   "execution_count": 29,
   "metadata": {
    "collapsed": false
   },
   "outputs": [
   ],
   "source": [
    "%display latex # make math display nice"
   ]
  },
  {
   "cell_type": "code",
   "execution_count": 30,
   "metadata": {
    "collapsed": false
   },
   "outputs": [
   ],
   "source": [
    "var(\"x y\") # make x and y symbols\n",
    "f = (2*x^2 + 3*y^2)*exp(-x^2-y^2) # define f\n",
    "D = diff(f,x,2)*diff(f,y,2) - diff(f,x,y)^2 # define D for the second derivative test"
   ]
  },
  {
   "cell_type": "code",
   "execution_count": 31,
   "metadata": {
    "collapsed": false
   },
   "outputs": [
    {
     "data": {
      "text/html": [
       "<html><script type=\"math/tex; mode=display\">\\newcommand{\\Bold}[1]{\\mathbf{#1}}-32 \\, x^{6} - 128 \\, x^{4} y^{2} - 168 \\, x^{2} y^{4} - 72 \\, y^{6} + 128 \\, x^{4} + 328 \\, x^{2} y^{2} + 228 \\, y^{4} - 136 \\, x^{2} - 156 \\, y^{2} + 24</script></html>"
      ]
     },
     "execution_count": 31,
     "metadata": {
     },
     "output_type": "execute_result"
    }
   ],
   "source": [
    "D2 = expand(D*e^(2*x^2+2*y^2)) # simplify D and clear out the exponential factor\n",
    "D2"
   ]
  },
  {
   "cell_type": "code",
   "execution_count": 37,
   "metadata": {
    "collapsed": false
   },
   "outputs": [
    {
     "data": {
      "text/html": [
       "<html><script type=\"math/tex; mode=display\">\\newcommand{\\Bold}[1]{\\mathbf{#1}}\\left[24, -16, -16, 24, 24\\right]</script></html>"
      ]
     },
     "execution_count": 37,
     "metadata": {
     },
     "output_type": "execute_result"
    }
   ],
   "source": [
    "# inspect values at critical points\n",
    "[D2(x=a,y=b) for (a,b) in ((0,0),(1,0),(-1,0),(0,1),(0,-1))]"
   ]
  },
  {
   "cell_type": "code",
   "execution_count": 0,
   "metadata": {
    "collapsed": false
   },
   "outputs": [
   ],
   "source": [
   ]
  }
 ],
 "metadata": {
  "kernelspec": {
   "display_name": "SageMath (stable)",
   "name": "sagemath"
  },
  "language_info": {
   "codemirror_mode": {
    "name": "ipython",
    "version": 2
   },
   "file_extension": ".py",
   "mimetype": "text/x-python",
   "name": "python",
   "nbconvert_exporter": "python",
   "pygments_lexer": "ipython2",
   "version": "2.7.13"
  }
 },
 "nbformat": 4,
 "nbformat_minor": 0
}